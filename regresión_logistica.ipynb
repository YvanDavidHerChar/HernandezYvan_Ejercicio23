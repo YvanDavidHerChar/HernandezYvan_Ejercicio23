{
 "cells": [
  {
   "cell_type": "code",
   "execution_count": 13,
   "metadata": {},
   "outputs": [],
   "source": [
    "import numpy as np\n",
    "import matplotlib.pyplot as plt\n",
    "import glob\n",
    "#Importamos todos los modulos de scikit learn\n",
    "from sklearn.linear_model import LogisticRegression\n",
    "from sklearn.model_selection import train_test_split\n",
    "from sklearn.preprocessing import StandardScaler\n",
    "from sklearn.utils import check_random_state\n",
    "from sklearn.metrics import f1_score\n"
   ]
  },
  {
   "cell_type": "markdown",
   "metadata": {},
   "source": [
    "Nuestro dataset se obtiene de https://www.kaggle.com/moltean/fruits  <br />\n",
    "Por la rapidez del algoritmo solo se tomo del folder test, de una sola fruta, 8 frutas. <br />\n",
    "Organizamos las frutas en un dataset en el que les cambiamos la dimensionalidad y le asignamos a cada una de las frutas un numero"
   ]
  },
  {
   "cell_type": "code",
   "execution_count": 14,
   "metadata": {},
   "outputs": [
    {
     "name": "stdout",
     "output_type": "stream",
     "text": [
      "Una Fruta\n",
      "Una Fruta\n",
      "Una Fruta\n",
      "Una Fruta\n",
      "Una Fruta\n",
      "Una Fruta\n",
      "Una Fruta\n",
      "Una Fruta\n",
      "Una Fruta\n",
      "(1343, 30000)\n",
      "(1343,)\n"
     ]
    }
   ],
   "source": [
    "folderset = [folder for folder in glob.glob(\"Test/\" + \"**/\", recursive=True)]\n",
    "data = []\n",
    "Y = []\n",
    "largo = len(folderset)\n",
    "Id = np.identity(largo).tolist()\n",
    "for i in range(largo):\n",
    "    fruta = folderset[i]\n",
    "    imagenes = glob.glob(\"{}/*.jpg\".format(fruta))\n",
    "    print('Una Fruta')\n",
    "    for imagen in imagenes:\n",
    "        aqui = plt.imread(imagen).flatten()\n",
    "        data.append(np.array(aqui))\n",
    "        Y.append(i)\n",
    "        \n",
    "data = np.array(data)\n",
    "print(np.shape(data))\n",
    "print(np.shape(Y))"
   ]
  },
  {
   "cell_type": "code",
   "execution_count": 15,
   "metadata": {},
   "outputs": [],
   "source": [
    "x_train, x_test, y_train, y_test = train_test_split(data, Y, train_size=0.5)\n",
    "\n",
    "scaler = StandardScaler()\n",
    "X_train = scaler.fit_transform(x_train)\n",
    "X_test = scaler.transform(x_test)\n",
    "train_samples = len(X_train)\n"
   ]
  },
  {
   "cell_type": "markdown",
   "metadata": {},
   "source": [
    "Variemos el C para los diferentes tipos de regularizacion "
   ]
  },
  {
   "cell_type": "code",
   "execution_count": 27,
   "metadata": {},
   "outputs": [
    {
     "name": "stdout",
     "output_type": "stream",
     "text": [
      "Uno\n",
      "Otro\n",
      "Uno\n",
      "Otro\n",
      "Uno\n",
      "Otro\n",
      "Uno\n",
      "Otro\n",
      "Uno\n",
      "Otro\n",
      "Uno\n",
      "Otro\n",
      "Uno\n",
      "Otro\n",
      "Uno\n",
      "Otro\n",
      "Uno\n",
      "Otro\n",
      "Uno\n",
      "Otro\n",
      "Uno\n",
      "Otro\n",
      "Uno\n",
      "Otro\n",
      "Uno\n",
      "Otro\n",
      "Uno\n",
      "Otro\n",
      "Uno\n",
      "Otro\n",
      "Uno\n",
      "Otro\n",
      "Uno\n",
      "Otro\n",
      "Uno\n",
      "Otro\n",
      "Uno\n",
      "Otro\n",
      "Uno\n",
      "Otro\n",
      "Uno\n",
      "Otro\n",
      "Uno\n",
      "Otro\n",
      "Uno\n",
      "Otro\n",
      "Uno\n",
      "Otro\n",
      "Uno\n",
      "Otro\n",
      "Uno\n",
      "Otro\n",
      "Uno\n",
      "Otro\n",
      "Uno\n",
      "Otro\n",
      "Uno\n",
      "Otro\n",
      "Uno\n",
      "Otro\n",
      "Uno\n",
      "Otro\n",
      "Uno\n",
      "Otro\n",
      "Uno\n",
      "Otro\n",
      "Uno\n",
      "Otro\n",
      "Uno\n",
      "Otro\n",
      "Uno\n",
      "Otro\n",
      "Uno\n",
      "Otro\n",
      "Uno\n",
      "Otro\n",
      "Uno\n",
      "Otro\n",
      "Uno\n",
      "Otro\n",
      "Uno\n",
      "Otro\n",
      "Uno\n",
      "Otro\n",
      "Uno\n",
      "Otro\n",
      "Uno\n",
      "Otro\n",
      "Uno\n",
      "Otro\n",
      "Uno\n",
      "Otro\n",
      "Uno\n",
      "Otro\n",
      "Uno\n",
      "Otro\n",
      "Uno\n",
      "Otro\n",
      "Uno\n",
      "Otro\n"
     ]
    }
   ],
   "source": [
    "ces = np.logspace(-3,3, 50)\n",
    "f1_l1  = []\n",
    "f1_l2  = []\n",
    "for i in range(len(ces)):\n",
    "    clf1 = LogisticRegression(C=ces[i], penalty='l1', solver='saga', tol=0.1)\n",
    "    clf1.fit(X_train, y_train)\n",
    "    print('Uno')\n",
    "    clf2 = LogisticRegression(C=ces[i], penalty='l2', solver='saga', tol=0.1)\n",
    "    clf2.fit(X_train, y_train)\n",
    "    print('Otro')\n",
    "    f1_l1.append(f1_score(y_test, clf1.predict(X_test), average='macro'))\n",
    "    f1_l2.append(f1_score(y_test, clf2.predict(X_test), average='macro'))"
   ]
  },
  {
   "cell_type": "markdown",
   "metadata": {},
   "source": [
    "Para apreciar la diferencia de comportamiento se grafican en escala logaritmica."
   ]
  },
  {
   "cell_type": "code",
   "execution_count": 29,
   "metadata": {},
   "outputs": [
    {
     "name": "stdout",
     "output_type": "stream",
     "text": [
      "[1.00000000e-03 1.32571137e-03 1.75751062e-03 2.32995181e-03\n",
      " 3.08884360e-03 4.09491506e-03 5.42867544e-03 7.19685673e-03\n",
      " 9.54095476e-03 1.26485522e-02 1.67683294e-02 2.22299648e-02\n",
      " 2.94705170e-02 3.90693994e-02 5.17947468e-02 6.86648845e-02\n",
      " 9.10298178e-02 1.20679264e-01 1.59985872e-01 2.12095089e-01\n",
      " 2.81176870e-01 3.72759372e-01 4.94171336e-01 6.55128557e-01\n",
      " 8.68511374e-01 1.15139540e+00 1.52641797e+00 2.02358965e+00\n",
      " 2.68269580e+00 3.55648031e+00 4.71486636e+00 6.25055193e+00\n",
      " 8.28642773e+00 1.09854114e+01 1.45634848e+01 1.93069773e+01\n",
      " 2.55954792e+01 3.39322177e+01 4.49843267e+01 5.96362332e+01\n",
      " 7.90604321e+01 1.04811313e+02 1.38949549e+02 1.84206997e+02\n",
      " 2.44205309e+02 3.23745754e+02 4.29193426e+02 5.68986603e+02\n",
      " 7.54312006e+02 1.00000000e+03]\n"
     ]
    },
    {
     "data": {
      "text/plain": [
       "Text(0.5, 1.0, 'Evolucion del F1 score con C para diferentes regularizaciones')"
      ]
     },
     "execution_count": 29,
     "metadata": {},
     "output_type": "execute_result"
    },
    {
     "data": {
      "image/png": "[encoded data removed]",
      "text/plain": [
       "<Figure size 432x288 with 1 Axes>"
      ]
     },
     "metadata": {
      "needs_background": "light"
     },
     "output_type": "display_data"
    }
   ],
   "source": [
    "print(ces)\n",
    "plt.plot(ces,f1_l1, label='Reguralizacion l1')\n",
    "plt.plot(ces,f1_l2, label='Reguralizacion l2')\n",
    "plt.legend()\n",
    "plt.xlabel('C')\n",
    "plt.ylabel('F1 Promedio')\n",
    "plt.xscale(\"log\")\n",
    "plt.xlim([0.001,1000])\n",
    "plt.title('Evolucion del F1 score con C para diferentes regularizaciones')"
   ]
  },
  {
   "cell_type": "markdown",
   "metadata": {},
   "source": [
    "La regularizacion l2 no es igual de buena que la de l1 al enviar los coeficientes a 0. Busquemos hacia que valores empieza a disminuir el score de la regularizacion l2."
   ]
  },
  {
   "cell_type": "code",
   "execution_count": 33,
   "metadata": {},
   "outputs": [
    {
     "name": "stdout",
     "output_type": "stream",
     "text": [
      "0.7458571631549609\n"
     ]
    }
   ],
   "source": [
    "clf2 = LogisticRegression(C=0.00000001, penalty='l2', solver='saga', tol=0.1)\n",
    "clf2.fit(X_train, y_train)\n",
    "print(f1_score(y_test, clf2.predict(X_test), average='macro'))"
   ]
  },
  {
   "cell_type": "markdown",
   "metadata": {},
   "source": [
    "Para un valor de $C = 10^{-8}$ ya se nota una disminucion del score de l2. "
   ]
  },
  {
   "cell_type": "code",
   "execution_count": null,
   "metadata": {},
   "outputs": [],
   "source": []
  }
 ],
 "metadata": {
  "kernelspec": {
   "display_name": "Python 3",
   "language": "python",
   "name": "python3"
  },
  "language_info": {
   "codemirror_mode": {
    "name": "ipython",
    "version": 3
   },
   "file_extension": ".py",
   "mimetype": "text/x-python",
   "name": "python",
   "nbconvert_exporter": "python",
   "pygments_lexer": "ipython3",
   "version": "3.7.6"
  }
 },
 "nbformat": 4,
 "nbformat_minor": 4
}
